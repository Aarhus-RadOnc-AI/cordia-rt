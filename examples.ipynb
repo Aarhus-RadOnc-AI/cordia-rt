{
 "cells": [
  {
   "cell_type": "markdown",
   "metadata": {},
   "source": [
    "# Examples of how to use CORDIAL-RT for data currantion and analysis of radtiotherpay DIOCM files\n",
    "\n",
    "Be sure to include a user_config.txt file in your workign directory with the following content: \n",
    "\n",
    "user=USERNAME\n",
    "dicom_file_parent_folder=D:/Anon_dicom_files\n",
    "database_path=/database.db"
   ]
  },
  {
   "cell_type": "code",
   "execution_count": null,
   "metadata": {},
   "outputs": [],
   "source": [
    "# Screen files in folder (expects patient subfolders)\n",
    "import cordialrt.screen_files.dicom_files_dataframe\n",
    "import pandas as pd\n",
    "\n",
    "df, errors = cordialrt.screen_files.dicom_files_dataframe.open_dicom_files(parent_folder = 'D:/Anon_dicom_files/Examples/') \n",
    "display(df[['number_of_studies','number_of_plans','number_of_cts','number_of_structures','number_of_doses','plan_names']])\n"
   ]
  },
  {
   "cell_type": "code",
   "execution_count": null,
   "metadata": {},
   "outputs": [],
   "source": [
    "#Explore the content of the files thorugh the patient_object\n",
    "import cordialrt.screen_files.helpers\n",
    "\n",
    "df['planned_fractions'] = df.patient_object.apply(cordialrt.screen_files.helpers.planned_fractions)\n",
    "df['main_fractions'] = df.planned_fractions.apply(cordialrt.screen_files.helpers.fractions_main_plan)\n",
    "\n",
    "display(df[['number_of_studies','number_of_plans','number_of_cts','number_of_structures',\n",
    "'number_of_doses','planned_fractions','main_fractions']])\n"
   ]
  },
  {
   "cell_type": "code",
   "execution_count": null,
   "metadata": {},
   "outputs": [],
   "source": [
    "#Combine with RVS data if avilable\n",
    "df_rvs = pd.read_excel('D:/RVS_data.xls')\n",
    "df_merged = pd.merge(df, df_rvs[['patient_id','Delivered Dose in Course']], on ='patient_id', how ='left')\n",
    "df_merged[['planned_fractions','number_of_plans', 'number_of_doses', 'main_fractions','Delivered Dose in Course']]\n"
   ]
  },
  {
   "cell_type": "markdown",
   "metadata": {},
   "source": [
    "Patient 1 needs scaling (total course dose is 50 Gy but plan is only 23 fractions)\n",
    "\n",
    "Patient 2 is ok as it is\n",
    "\n",
    "Patient 3 needs to have two dose files summed as it has a have sequential boost\n",
    "\n",
    "patient 4 has no RVS data but we know from plan name that it is ok with 50Gy in 25 fractions - it has multiple dose filess (dose per beam) which are summed\n"
   ]
  },
  {
   "cell_type": "code",
   "execution_count": null,
   "metadata": {},
   "outputs": [],
   "source": [
    "# Create a new treatment collection in the databse to represent a research project\n",
    "import cordialrt.database.database as rtdb\n",
    "\n",
    "with rtdb.DatabaseCall() as db:\n",
    "    test_treatment_collection_id = db.create_treatment_collection('Example treatment collection')\n",
    "\n",
    "print(test_treatment_collection_id)\n"
   ]
  },
  {
   "cell_type": "code",
   "execution_count": null,
   "metadata": {},
   "outputs": [],
   "source": [
    "# Add a treatment to the treatment collection in the database. \n",
    "# DICOM files asscociated to the plan names, chosen will be associated with the treatment.\n",
    "\n",
    "all_errors = list()\n",
    "with rtdb.DatabaseCall() as db:\n",
    "    status, error_log = db.add_new_treatment_to_collection_from_plan_names(\n",
    "                        patient = df_merged.loc[0].patient_object,\n",
    "                        collection_id =  test_treatment_collection_id,\n",
    "                        plan_names = df_merged.loc[0].plan_names,\n",
    "                        treatment_place = 'Centre 1',\n",
    "                        main_reference_dose = df_merged.loc[0]['Delivered Dose in Course'].round(0).astype(int),\n",
    "                        boost_reference_dose = 0,\n",
    "                        main_dose_scale_factor = 25/df_merged.loc[0].main_fractions,\n",
    "                        boost_dose_scale_factor = 0,\n",
    "                        )\n",
    "    all_errors.append([row.patient_id, status, error_log])\n"
   ]
  },
  {
   "cell_type": "code",
   "execution_count": null,
   "metadata": {},
   "outputs": [],
   "source": [
    "# Add a treatment to the treatment collection in the database. \n",
    "# DICOM files asscociated to the plan names, chosen will be associated with the treatment.\n",
    "\n",
    "all_errors = list()\n",
    "with rtdb.DatabaseCall() as db:\n",
    "    status, error_log = db.add_new_treatment_to_collection_from_plan_names(\n",
    "                        patient = df_merged.loc[2].patient_object,\n",
    "                        collection_id =  test_treatment_collection_id,\n",
    "                        plan_names = df_merged.loc[2].plan_names,\n",
    "                        treatment_place = 'Centre 1',\n",
    "                        main_reference_dose = 50,\n",
    "                        boost_reference_dose = 10,\n",
    "                        main_dose_scale_factor = 1,\n",
    "                        boost_dose_scale_factor = 1,\n",
    "                        )\n",
    "    all_errors.append([row.patient_id, status, error_log])\n"
   ]
  },
  {
   "cell_type": "code",
   "execution_count": null,
   "metadata": {},
   "outputs": [],
   "source": [
    "# Load treatments from a treatment collection by initiating the Treatment class\n",
    "\n",
    "import cordialrt.analysis.treatments_from_collection \n",
    "\n",
    "treatments = cordialrt.analysis.treatments_from_collection.init_treatments_from_collection(treatment_collection_id = test_treatment_collection_id)\n"
   ]
  },
  {
   "cell_type": "code",
   "execution_count": null,
   "metadata": {},
   "outputs": [],
   "source": [
    "# Extract information from the databse and the associated DICOM files, using the treatment class\n",
    "t = treatments[0]\n",
    "\n",
    "print('Patient id:', t.patient_id)\n",
    "print('Patient dicompyler DicomParser dose object:', t.get_dose()) # Note if multiple dosefiles are associated with the treatment, these are summed.\n",
    "print('Max dose in the dose grid:', t.get_max_dose())\n",
    "print('Treatment laterality:', t.get_latterality())\n",
    "print('Plan study date:', t.get_study_date())\n",
    "\n",
    "# Please see the definition of the Treatment class for more funtionality \n"
   ]
  },
  {
   "cell_type": "code",
   "execution_count": null,
   "metadata": {},
   "outputs": [],
   "source": [
    "# Use data extraction module\n",
    "\n",
    "import cordialrt.analysis.data_extraction as crtda\n",
    "\n",
    "datapoints_input = list()\n",
    "\n",
    "datapoints_input.append(crtda.DvhDataPoint('ctvn_imn', 'volume', 'abs'))\n",
    "datapoints_input.append(crtda.DvhDataPoint('ctvn_imn', 'mean', 'abs'))\n",
    "datapoints_input.append(crtda.DvhDataPoint('ctvn_imn', 'v90', 'rel'))\n",
    "\n",
    "datapoints_input.append(crtda.DvhDataPoint('heart', 'volume', 'abs'))\n",
    "datapoints_input.append(crtda.DvhDataPoint('heart', 'mean', 'abs'))\n",
    "\n",
    "\n",
    "for i,patient_id in enumerate(df.patient_id.unique()[0:3]):\n",
    "    datapoints_output = crtda.extract_data_from_patient(collection_id = 70, patient_id = patient_id, data_points= datapoints_input)\n",
    "\n",
    "    print(f'Patient {i}')\n",
    "    for data_point in datapoints_output:\n",
    "        print(data_point.roi_standard_name, data_point.name ,data_point.value )\n",
    "    print('')                                           \n"
   ]
  },
  {
   "cell_type": "code",
   "execution_count": null,
   "metadata": {},
   "outputs": [],
   "source": [
    "# Extract non-dvh data and make a dataframe\n",
    "\n",
    "data_frame_rows = list()\n",
    "\n",
    "datapoints_input.append(crtda.GenericDataPoint('main_reference_dose'))\n",
    "datapoints_input.append(crtda.GenericDataPoint('ct_manufacturer'))\n",
    "datapoints_input.append(crtda.GenericDataPoint('laterality'))\n",
    "\n",
    "\n",
    "for i,patient_id in enumerate(df.patient_id.unique()[0:3]):\n",
    "    datapoints_output = crtda.extract_data_from_patient(collection_id = 70, patient_id = patient_id, data_points= datapoints_input)\n",
    "    data_frame_row = {'patient_id' : f'patient_{i}'}\n",
    "\n",
    "    for data_point in datapoints_output:\n",
    "        try:\n",
    "            name = f'{data_point.roi_standard_name}_{data_point.name}' #If datapoint is a DvhDataPoint\n",
    "        except AttributeError: \n",
    "            name = data_point.name # If datapoint is a GenericDataPoint\n",
    "            \n",
    "        data_frame_row[f'{name}'] = data_point.value\n",
    "    \n",
    "    data_frame_rows.append(data_frame_row)\n",
    "\n",
    "df_dvh = pd.DataFrame(data_frame_rows)\n",
    "display(df_dvh)\n",
    "\n",
    "df_dvh.to_csv('dvh.csv')\n",
    "df_dvh.to_excel('dvh.xlsx')\n",
    "df_dvh.to_stata('dvh.tba')\n"
   ]
  },
  {
   "cell_type": "code",
   "execution_count": null,
   "metadata": {},
   "outputs": [],
   "source": [
    "# Get a list of implemented non-ROI data extraction methods\n",
    "crtda.NON_ROI_DATAPOINTS\n"
   ]
  },
  {
   "cell_type": "code",
   "execution_count": null,
   "metadata": {},
   "outputs": [],
   "source": [
    "# Use augmented structure set instead of the original\n",
    "\n",
    "import cordialrt.database.database as crtdb\n",
    "\n",
    "with crtdb.DatabaseCall() as db:\n",
    "    structure_collection_id = db.new_structure_collection_from_folder(collection_name= 'example_dl',\n",
    "                                                                      folder_path = 'D:/Anon_dicom_files/Augmented_structures/Examples/')\n"
   ]
  },
  {
   "cell_type": "code",
   "execution_count": null,
   "metadata": {},
   "outputs": [],
   "source": [
    "data_frame_rows = list()\n",
    "dapoints_input2 = list()\n",
    "\n",
    "datapoints_input2.append(crtda.DvhDataPoint('heart', 'volume', 'abs'))\n",
    "datapoints_input2.append(crtda.DvhDataPoint('heart', 'mean', 'abs'))\n",
    "\n",
    "# Add the datapoints for the new structures in the augmented structure set\n",
    "datapoints_input2.append(crtda.DvhDataPoint('dl_heart', 'volume', 'abs'))\n",
    "datapoints_input2.append(crtda.DvhDataPoint('dl_heart', 'mean', 'abs'))\n",
    "datapoints_input2.append(crtda.DvhDataPoint('dl_LAD', 'volume', 'abs'))\n",
    "datapoints_input2.append(crtda.DvhDataPoint('dl_LAD', 'mean', 'abs'))\n",
    "\n",
    "for i,patient_id in enumerate(df.patient_id.unique()[0:3]):\n",
    "    datapoints_output = crtda.extract_data_from_patient(collection_id = 70, patient_id = patient_id, data_points= datapoints_input2,\n",
    "                                                        structure_collection_id = 7)\n",
    "    data_frame_row = {'patient_id' : f'patient_{i}'}\n",
    "\n",
    "    for data_point in datapoints_output:\n",
    "        try:\n",
    "            name = f'{data_point.roi_standard_name}_{data_point.name}' #If datapoint is a DvhDataPoint\n",
    "        except AttributeError: \n",
    "            name = data_point.name # If datapoint is a GenericDataPoint\n",
    "            \n",
    "        data_frame_row[f'{name}'] = data_point.value\n",
    "    \n",
    "    data_frame_rows.append(data_frame_row)\n",
    "\n",
    "df_dvh = pd.DataFrame(data_frame_rows)\n",
    "display(df_dvh)\n"
   ]
  },
  {
   "cell_type": "code",
   "execution_count": null,
   "metadata": {},
   "outputs": [],
   "source": [
    "# Add a Region Of Interest to the treatment class\n",
    "\n",
    "t.add_new_roi('Breast')\n",
    "\n",
    "# This will initiate a ROI class object\n",
    "breast = t.roi_by_name('Breast')\n",
    "\n",
    "# If the ROI class object has the same name as a roi in the structure file, the dvh can be calcalted using dicompyler\n",
    "breast_dvh = breast.calculate_dvh_for_roi_name()\n",
    "\n",
    "print('Breast volume', breast_dvh.volume)\n",
    "print('Breast mean dose', breast_dvh.mean)\n"
   ]
  },
  {
   "cell_type": "code",
   "execution_count": null,
   "metadata": {},
   "outputs": [],
   "source": [
    "test_treatment_collection_id = 70\n"
   ]
  },
  {
   "cell_type": "code",
   "execution_count": null,
   "metadata": {},
   "outputs": [],
   "source": [
    "# Count structure names in list of treatmetments\n",
    "\n",
    "import cordialrt.analysis.utils as crtut\n",
    "\n",
    "structure_names = list()\n",
    "for t in treatments:\n",
    "    structure_names.append(t.extract_roi_names_from_new_data())\n",
    "\n",
    "crtut.structure_count(structure_names)\n"
   ]
  },
  {
   "cell_type": "code",
   "execution_count": null,
   "metadata": {},
   "outputs": [],
   "source": [
    "# If we want to analyse multiple treatments at once, they may have different names for the same organ. \n",
    "# We can create a synonym collection and associate that with our treatment collection.\n",
    "\n",
    "import cordialrt.database.database as rtdb\n",
    "\n",
    "with rtdb.DatabaseCall() as db:\n",
    "    test_synonym_collection_id = db.create_synonym_collection('Test synonym collection')\n",
    "    db.associate_synonym_collection_with_treatment_colection(treatment_collection_id = test_treatment_collection_id, \n",
    "                                                            synonym_collection_id = test_synonym_collection_id)\n",
    "\n",
    "# We can then add synonyms to the collection\n",
    "with rtdb.DatabaseCall() as db: \n",
    "    db.add_synoym_to_synonym_colection(test_synonym_collection_id, 'or; cor', 'heart')\n",
    "    db.add_synoym_to_synonym_colection(test_synonym_collection_id, 'cor', 'heart')\n",
    "    db.add_synoym_to_synonym_colection(test_synonym_collection_id, 'parasternale lk', 'ctvn_imn')\n",
    "    db.add_synoym_to_synonym_colection(test_synonym_collection_id, 'parasternal ln', 'ctvn_imn')\n"
   ]
  },
  {
   "cell_type": "code",
   "execution_count": null,
   "metadata": {},
   "outputs": [],
   "source": []
  },
  {
   "cell_type": "code",
   "execution_count": null,
   "metadata": {},
   "outputs": [],
   "source": [
    "# We can now just use the standard name.\n",
    "\n",
    "t.add_new_roi('ctvp_breast')\n",
    "\n",
    "breast = t.roi_by_name('ctvp_breast')\n",
    "\n",
    "# This function will look for all synonyms associated with the ROI name (for this particular treatment collection)\n",
    "breast_dvh = breast.calculate_dvh_for_priority_synonym()\n",
    "\n",
    "print('Breast volume', breast_dvh.volume)\n",
    "print('Breast mean dose', breast_dvh.mean)\n",
    "\n"
   ]
  },
  {
   "cell_type": "code",
   "execution_count": null,
   "metadata": {},
   "outputs": [],
   "source": []
  }
 ],
 "metadata": {
  "kernelspec": {
   "display_name": "cordialrt",
   "language": "python",
   "name": "python3"
  },
  "language_info": {
   "codemirror_mode": {
    "name": "ipython",
    "version": 3
   },
   "file_extension": ".py",
   "mimetype": "text/x-python",
   "name": "python",
   "nbconvert_exporter": "python",
   "pygments_lexer": "ipython3",
   "version": "3.12.2"
  },
  "orig_nbformat": 4
 },
 "nbformat": 4,
 "nbformat_minor": 2
}
