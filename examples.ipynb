{
 "cells": [
  {
   "cell_type": "code",
   "execution_count": null,
   "metadata": {},
   "outputs": [],
   "source": [
    "# Screen files in folder (expects patient subfolders)\n",
    "\n",
    "import cordialrt.screen_files.dicom_files_dataframe \n",
    "\n",
    "df, errors = cordialrt.screen_files.dicom_files_dataframe.open_dicom_files(parent_folder = 'D:/Anon_dicom_files/Test_dicom/dicompyler_core/') \n",
    "display(df)"
   ]
  },
  {
   "cell_type": "code",
   "execution_count": null,
   "metadata": {},
   "outputs": [],
   "source": [
    "#Explore the content of the files thorugh the patient_object\n",
    "\n",
    "import cordialrt.screen_files.helpers\n",
    "\n",
    "df['planned_fractions'] = df.patient_object.apply(cordialrt.screen_files.helpers.planned_fractions)\n",
    "df['main_fractions'] = df.planned_fractions.apply(cordialrt.screen_files.helpers.fractions_main_plan)\n",
    "\n",
    "display(df [['patient_id','planned_fractions','main_fractions']])"
   ]
  },
  {
   "cell_type": "code",
   "execution_count": null,
   "metadata": {},
   "outputs": [],
   "source": [
    "# Create a new treatment collection in the databse to represent a research project\n",
    "import cordialrt.database.database as rtdb\n",
    "\n",
    "with rtdb.DatabaseCall() as db:\n",
    "    test_treatment_collection_id = db.create_treatment_collection('Treatment collection test')\n",
    "\n",
    "print(test_treatment_collection_id)"
   ]
  },
  {
   "cell_type": "code",
   "execution_count": null,
   "metadata": {},
   "outputs": [],
   "source": [
    "# Add a treatment to the treatment collection in the database. \n",
    "# DICOM files asscociated to the plan names, chosen will be associated with the treatment.\n",
    "\n",
    "all_errors = list()\n",
    "with rtdb.DatabaseCall() as db:\n",
    "    for index, row in df.iterrows():\n",
    "        status, error_log = db.add_new_treatment_to_collection_from_plan_names(patient = row.patient_object, \n",
    "                                                                collection_id =  test_treatment_collection_id,\n",
    "                                                                plan_names = ['B1'],\n",
    "                                                                treatment_place = 'Centre 1',\n",
    "                                                                main_reference_dose = 14,\n",
    "                                                                boost_reference_dose = 0,\n",
    "                                                                main_dose_scale_factor = 1,\n",
    "                                                                boost_dose_scale_factor = 0,\n",
    "                                                                )\n",
    "        all_errors.append([row.patient_id, status, error_log])\n",
    "\n"
   ]
  },
  {
   "cell_type": "code",
   "execution_count": null,
   "metadata": {},
   "outputs": [],
   "source": [
    "# Load treatments from a treatment collection by initiating the Treatment class\n",
    "\n",
    "import cordialrt.analysis.treatments_from_collection \n",
    "\n",
    "treatments = cordialrt.analysis.treatments_from_collection.init_treatments_from_collection(treatment_collection_id = test_treatment_collection_id)"
   ]
  },
  {
   "cell_type": "code",
   "execution_count": null,
   "metadata": {},
   "outputs": [],
   "source": [
    "# Extract information from the databse and the associated DICOM files, using the treatment class\n",
    "t = treatments[0]\n",
    "\n",
    "print('Patient id:', t.patient_id)\n",
    "print('Patient dicompyler DicomParser object:', t.get_dose()) # Note if multiple dosefiles are associated with the treatment, these are summed.\n",
    "print('Max dose in the dose grid', t.get_max_dose())\n",
    "\n",
    "# Please see the definition of the Treatment class for more funtionality \n"
   ]
  },
  {
   "cell_type": "code",
   "execution_count": null,
   "metadata": {},
   "outputs": [],
   "source": [
    "# Add a Region Of Interest to the treatment class\n",
    "\n",
    "t.add_new_roi('Breast')\n",
    "\n",
    "# This will initiate a ROI class object\n",
    "breast = t.roi_by_name('Breast')\n",
    "\n",
    "# If the ROI class object has the same name as a roi in the structure file, the dvh can be calcalted using dicompyler\n",
    "breast_dvh = breast.calculate_dvh_for_roi_name()\n",
    "\n",
    "print('Breast volume', breast_dvh.volume)\n",
    "print('Breast mean dose', breast_dvh.mean)\n"
   ]
  },
  {
   "cell_type": "code",
   "execution_count": null,
   "metadata": {},
   "outputs": [],
   "source": [
    "# If we want to analyse multiple treatments at once, they may have different names for the same organ. \n",
    "# We can create a synonym collection and associate that with our treatment collection.\n",
    "\n",
    "import cordialrt.database.database as rtdb\n",
    "\n",
    "with rtdb.DatabaseCall() as db:\n",
    "    test_synonym_collection_id = db.create_synonym_collection('Test synonym collection')\n",
    "    db.associate_synonym_collection_with_treatment_colection(treatment_collection_id = test_treatment_collection_id, \n",
    "                                                            synonym_collection_id = test_synonym_collection_id)\n"
   ]
  },
  {
   "cell_type": "code",
   "execution_count": null,
   "metadata": {},
   "outputs": [],
   "source": [
    "# We can then add synonyms to the collection\n",
    "with rtdb.DatabaseCall() as db: \n",
    "    db.add_synoym_to_synonym_colection(test_synonym_collection_id, 'breast', 'ctvp_breast')\n",
    "    db.add_synoym_to_synonym_colection(test_synonym_collection_id, 'mamma', 'ctvp_breast')\n",
    "    db.add_synoym_to_synonym_colection(test_synonym_collection_id, 'mam', 'ctvp_breast')"
   ]
  },
  {
   "cell_type": "code",
   "execution_count": null,
   "metadata": {},
   "outputs": [],
   "source": [
    "# We can now just use the standard name.\n",
    "\n",
    "t.add_new_roi('ctvp_breast')\n",
    "\n",
    "breast = t.roi_by_name('ctvp_breast')\n",
    "\n",
    "# This function will look for all synonyms associated with the ROI name (for this particular treatment collection)\n",
    "breast_dvh = breast.calculate_dvh_for_priority_synonym()\n",
    "\n",
    "print('Breast volume', breast_dvh.volume)\n",
    "print('Breast mean dose', breast_dvh.mean)\n",
    "\n"
   ]
  }
 ],
 "metadata": {
  "kernelspec": {
   "display_name": "cordial_test",
   "language": "python",
   "name": "python3"
  },
  "language_info": {
   "codemirror_mode": {
    "name": "ipython",
    "version": 3
   },
   "file_extension": ".py",
   "mimetype": "text/x-python",
   "name": "python",
   "nbconvert_exporter": "python",
   "pygments_lexer": "ipython3",
   "version": "3.9.15"
  },
  "orig_nbformat": 4,
  "vscode": {
   "interpreter": {
    "hash": "26f1a7cfa9f4ad6a65c8be032bf9e7ef0226b8ff58b8c30f8f3cd6b2a55c8145"
   }
  }
 },
 "nbformat": 4,
 "nbformat_minor": 2
}
