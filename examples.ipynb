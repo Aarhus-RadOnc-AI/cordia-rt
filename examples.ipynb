{
 "cells": [
  {
   "cell_type": "code",
   "execution_count": 2,
   "metadata": {},
   "outputs": [
    {
     "name": "stdout",
     "output_type": "stream",
     "text": [
      "1717493898.7164178\n"
     ]
    },
    {
     "ename": "FileNotFoundError",
     "evalue": "[WinError 3] The system cannot find the path specified: 'D:/Anon_dicom_files/Examples/'",
     "output_type": "error",
     "traceback": [
      "\u001b[1;31m---------------------------------------------------------------------------\u001b[0m",
      "\u001b[1;31mFileNotFoundError\u001b[0m                         Traceback (most recent call last)",
      "\u001b[1;32m<ipython-input-2-9ef4372d78e2>\u001b[0m in \u001b[0;36m<module>\u001b[1;34m\u001b[0m\n\u001b[0;32m      3\u001b[0m \u001b[1;32mimport\u001b[0m \u001b[0mpandas\u001b[0m \u001b[1;32mas\u001b[0m \u001b[0mpd\u001b[0m\u001b[1;33m\u001b[0m\u001b[1;33m\u001b[0m\u001b[0m\n\u001b[0;32m      4\u001b[0m \u001b[1;33m\u001b[0m\u001b[0m\n\u001b[1;32m----> 5\u001b[1;33m \u001b[0mdf\u001b[0m\u001b[1;33m,\u001b[0m \u001b[0merrors\u001b[0m \u001b[1;33m=\u001b[0m \u001b[0mcordialrt\u001b[0m\u001b[1;33m.\u001b[0m\u001b[0mscreen_files\u001b[0m\u001b[1;33m.\u001b[0m\u001b[0mdicom_files_dataframe\u001b[0m\u001b[1;33m.\u001b[0m\u001b[0mopen_dicom_files\u001b[0m\u001b[1;33m(\u001b[0m\u001b[0mparent_folder\u001b[0m \u001b[1;33m=\u001b[0m \u001b[1;34m'D:/Anon_dicom_files/Examples/'\u001b[0m\u001b[1;33m)\u001b[0m\u001b[1;33m\u001b[0m\u001b[1;33m\u001b[0m\u001b[0m\n\u001b[0m\u001b[0;32m      6\u001b[0m \u001b[0mdisplay\u001b[0m\u001b[1;33m(\u001b[0m\u001b[0mdf\u001b[0m\u001b[1;33m[\u001b[0m\u001b[1;33m[\u001b[0m\u001b[1;34m'number_of_studies'\u001b[0m\u001b[1;33m,\u001b[0m\u001b[1;34m'number_of_plans'\u001b[0m\u001b[1;33m,\u001b[0m\u001b[1;34m'number_of_cts'\u001b[0m\u001b[1;33m,\u001b[0m\u001b[1;34m'number_of_structures'\u001b[0m\u001b[1;33m,\u001b[0m\u001b[1;34m'number_of_doses'\u001b[0m\u001b[1;33m,\u001b[0m\u001b[1;34m'plan_names'\u001b[0m\u001b[1;33m]\u001b[0m\u001b[1;33m]\u001b[0m\u001b[1;33m)\u001b[0m\u001b[1;33m\u001b[0m\u001b[1;33m\u001b[0m\u001b[0m\n",
      "\u001b[1;32mc:\\Users\\LASREF\\dev\\cordial-rt\\cordialrt\\screen_files\\dicom_files_dataframe.py\u001b[0m in \u001b[0;36mopen_dicom_files\u001b[1;34m(parent_folder, max_no_folders, folder_paths)\u001b[0m\n\u001b[0;32m     46\u001b[0m             \u001b[0mfolders\u001b[0m \u001b[1;33m=\u001b[0m \u001b[0mfast_scandir\u001b[0m\u001b[1;33m(\u001b[0m\u001b[0mparent_folder\u001b[0m\u001b[1;33m)\u001b[0m\u001b[1;33m[\u001b[0m\u001b[1;36m0\u001b[0m\u001b[1;33m:\u001b[0m\u001b[0mmax_no_folders\u001b[0m\u001b[1;33m]\u001b[0m\u001b[1;33m\u001b[0m\u001b[1;33m\u001b[0m\u001b[0m\n\u001b[0;32m     47\u001b[0m         \u001b[1;32melse\u001b[0m\u001b[1;33m:\u001b[0m\u001b[1;33m\u001b[0m\u001b[1;33m\u001b[0m\u001b[0m\n\u001b[1;32m---> 48\u001b[1;33m             \u001b[0mfolders\u001b[0m \u001b[1;33m=\u001b[0m \u001b[0mfast_scandir\u001b[0m\u001b[1;33m(\u001b[0m\u001b[0mparent_folder\u001b[0m\u001b[1;33m)\u001b[0m\u001b[1;33m\u001b[0m\u001b[1;33m\u001b[0m\u001b[0m\n\u001b[0m\u001b[0;32m     49\u001b[0m \u001b[1;33m\u001b[0m\u001b[0m\n\u001b[0;32m     50\u001b[0m     \u001b[1;32mfor\u001b[0m \u001b[0mpath\u001b[0m \u001b[1;32min\u001b[0m \u001b[0mfolders\u001b[0m\u001b[1;33m:\u001b[0m\u001b[1;33m\u001b[0m\u001b[1;33m\u001b[0m\u001b[0m\n",
      "\u001b[1;32mc:\\Users\\LASREF\\dev\\cordial-rt\\cordialrt\\screen_files\\base\\folder_utilities.py\u001b[0m in \u001b[0;36mfast_scandir\u001b[1;34m(dir)\u001b[0m\n\u001b[0;32m     13\u001b[0m \u001b[1;33m\u001b[0m\u001b[0m\n\u001b[0;32m     14\u001b[0m \u001b[1;32mdef\u001b[0m \u001b[0mfast_scandir\u001b[0m\u001b[1;33m(\u001b[0m\u001b[0mdir\u001b[0m\u001b[1;33m)\u001b[0m\u001b[1;33m:\u001b[0m\u001b[1;33m\u001b[0m\u001b[1;33m\u001b[0m\u001b[0m\n\u001b[1;32m---> 15\u001b[1;33m     \u001b[0msubfolders\u001b[0m\u001b[1;33m=\u001b[0m \u001b[1;33m[\u001b[0m\u001b[0mf\u001b[0m\u001b[1;33m.\u001b[0m\u001b[0mpath\u001b[0m \u001b[1;32mfor\u001b[0m \u001b[0mf\u001b[0m \u001b[1;32min\u001b[0m \u001b[0mos\u001b[0m\u001b[1;33m.\u001b[0m\u001b[0mscandir\u001b[0m\u001b[1;33m(\u001b[0m\u001b[0mdir\u001b[0m\u001b[1;33m)\u001b[0m \u001b[1;32mif\u001b[0m \u001b[0mf\u001b[0m\u001b[1;33m.\u001b[0m\u001b[0mis_dir\u001b[0m\u001b[1;33m(\u001b[0m\u001b[1;33m)\u001b[0m\u001b[1;33m]\u001b[0m\u001b[1;33m\u001b[0m\u001b[1;33m\u001b[0m\u001b[0m\n\u001b[0m\u001b[0;32m     16\u001b[0m     \u001b[1;32mfor\u001b[0m \u001b[0mdir\u001b[0m \u001b[1;32min\u001b[0m \u001b[0mlist\u001b[0m\u001b[1;33m(\u001b[0m\u001b[0msubfolders\u001b[0m\u001b[1;33m)\u001b[0m\u001b[1;33m:\u001b[0m\u001b[1;33m\u001b[0m\u001b[1;33m\u001b[0m\u001b[0m\n\u001b[0;32m     17\u001b[0m         \u001b[0msubfolders\u001b[0m\u001b[1;33m.\u001b[0m\u001b[0mextend\u001b[0m\u001b[1;33m(\u001b[0m\u001b[0mfast_scandir\u001b[0m\u001b[1;33m(\u001b[0m\u001b[0mdir\u001b[0m\u001b[1;33m)\u001b[0m\u001b[1;33m)\u001b[0m\u001b[1;33m\u001b[0m\u001b[1;33m\u001b[0m\u001b[0m\n",
      "\u001b[1;31mFileNotFoundError\u001b[0m: [WinError 3] The system cannot find the path specified: 'D:/Anon_dicom_files/Examples/'"
     ]
    }
   ],
   "source": [
    "# Screen files in folder (expects patient subfolders)\n",
    "import cordialrt.screen_files.dicom_files_dataframe\n",
    "import pandas as pd\n",
    "\n",
    "df, errors = cordialrt.screen_files.dicom_files_dataframe.open_dicom_files(parent_folder = 'D:/Anon_dicom_files/Examples/') \n",
    "display(df[['number_of_studies','number_of_plans','number_of_cts','number_of_structures','number_of_doses','plan_names']])"
   ]
  },
  {
   "cell_type": "code",
   "execution_count": 7,
   "metadata": {},
   "outputs": [
    {
     "data": {
      "text/html": [
       "<div>\n",
       "<style scoped>\n",
       "    .dataframe tbody tr th:only-of-type {\n",
       "        vertical-align: middle;\n",
       "    }\n",
       "\n",
       "    .dataframe tbody tr th {\n",
       "        vertical-align: top;\n",
       "    }\n",
       "\n",
       "    .dataframe thead th {\n",
       "        text-align: right;\n",
       "    }\n",
       "</style>\n",
       "<table border=\"1\" class=\"dataframe\">\n",
       "  <thead>\n",
       "    <tr style=\"text-align: right;\">\n",
       "      <th></th>\n",
       "      <th>number_of_studies</th>\n",
       "      <th>number_of_plans</th>\n",
       "      <th>number_of_cts</th>\n",
       "      <th>number_of_structures</th>\n",
       "      <th>number_of_doses</th>\n",
       "      <th>planned_fractions</th>\n",
       "      <th>main_fractions</th>\n",
       "    </tr>\n",
       "  </thead>\n",
       "  <tbody>\n",
       "    <tr>\n",
       "      <th>0</th>\n",
       "      <td>1</td>\n",
       "      <td>1</td>\n",
       "      <td>75</td>\n",
       "      <td>1</td>\n",
       "      <td>1</td>\n",
       "      <td>[[Thxv+LN DBdx, 23]]</td>\n",
       "      <td>23</td>\n",
       "    </tr>\n",
       "    <tr>\n",
       "      <th>1</th>\n",
       "      <td>1</td>\n",
       "      <td>1</td>\n",
       "      <td>145</td>\n",
       "      <td>1</td>\n",
       "      <td>1</td>\n",
       "      <td>[[G SKA-I M R, 25]]</td>\n",
       "      <td>25</td>\n",
       "    </tr>\n",
       "    <tr>\n",
       "      <th>2</th>\n",
       "      <td>1</td>\n",
       "      <td>2</td>\n",
       "      <td>141</td>\n",
       "      <td>1</td>\n",
       "      <td>2</td>\n",
       "      <td>[[G DBCG E L PY, 25], [G DBCG L B, 5]]</td>\n",
       "      <td>25</td>\n",
       "    </tr>\n",
       "    <tr>\n",
       "      <th>3</th>\n",
       "      <td>1</td>\n",
       "      <td>1</td>\n",
       "      <td>138</td>\n",
       "      <td>1</td>\n",
       "      <td>9</td>\n",
       "      <td>[[MamBD50_25, 25]]</td>\n",
       "      <td>25</td>\n",
       "    </tr>\n",
       "  </tbody>\n",
       "</table>\n",
       "</div>"
      ],
      "text/plain": [
       "   number_of_studies  number_of_plans  number_of_cts  number_of_structures  \\\n",
       "0                  1                1             75                     1   \n",
       "1                  1                1            145                     1   \n",
       "2                  1                2            141                     1   \n",
       "3                  1                1            138                     1   \n",
       "\n",
       "   number_of_doses                       planned_fractions  main_fractions  \n",
       "0                1                    [[Thxv+LN DBdx, 23]]              23  \n",
       "1                1                     [[G SKA-I M R, 25]]              25  \n",
       "2                2  [[G DBCG E L PY, 25], [G DBCG L B, 5]]              25  \n",
       "3                9                      [[MamBD50_25, 25]]              25  "
      ]
     },
     "metadata": {},
     "output_type": "display_data"
    }
   ],
   "source": [
    "#Explore the content of the files thorugh the patient_object\n",
    "import cordialrt.screen_files.helpers\n",
    "\n",
    "df['planned_fractions'] = df.patient_object.apply(cordialrt.screen_files.helpers.planned_fractions)\n",
    "df['main_fractions'] = df.planned_fractions.apply(cordialrt.screen_files.helpers.fractions_main_plan)\n",
    "\n",
    "display(df[['number_of_studies','number_of_plans','number_of_cts','number_of_structures',\n",
    "'number_of_doses','planned_fractions','main_fractions']])"
   ]
  },
  {
   "cell_type": "code",
   "execution_count": 8,
   "metadata": {},
   "outputs": [
    {
     "data": {
      "text/html": [
       "<div>\n",
       "<style scoped>\n",
       "    .dataframe tbody tr th:only-of-type {\n",
       "        vertical-align: middle;\n",
       "    }\n",
       "\n",
       "    .dataframe tbody tr th {\n",
       "        vertical-align: top;\n",
       "    }\n",
       "\n",
       "    .dataframe thead th {\n",
       "        text-align: right;\n",
       "    }\n",
       "</style>\n",
       "<table border=\"1\" class=\"dataframe\">\n",
       "  <thead>\n",
       "    <tr style=\"text-align: right;\">\n",
       "      <th></th>\n",
       "      <th>planned_fractions</th>\n",
       "      <th>number_of_plans</th>\n",
       "      <th>number_of_doses</th>\n",
       "      <th>main_fractions</th>\n",
       "      <th>Delivered Dose in Course</th>\n",
       "    </tr>\n",
       "  </thead>\n",
       "  <tbody>\n",
       "    <tr>\n",
       "      <th>0</th>\n",
       "      <td>[[Thxv+LN DBdx, 23]]</td>\n",
       "      <td>1</td>\n",
       "      <td>1</td>\n",
       "      <td>23</td>\n",
       "      <td>50.019530</td>\n",
       "    </tr>\n",
       "    <tr>\n",
       "      <th>1</th>\n",
       "      <td>[[G SKA-I M R, 25]]</td>\n",
       "      <td>1</td>\n",
       "      <td>1</td>\n",
       "      <td>25</td>\n",
       "      <td>49.999038</td>\n",
       "    </tr>\n",
       "    <tr>\n",
       "      <th>2</th>\n",
       "      <td>[[G DBCG E L PY, 25], [G DBCG L B, 5]]</td>\n",
       "      <td>2</td>\n",
       "      <td>2</td>\n",
       "      <td>25</td>\n",
       "      <td>60.008776</td>\n",
       "    </tr>\n",
       "    <tr>\n",
       "      <th>3</th>\n",
       "      <td>[[MamBD50_25, 25]]</td>\n",
       "      <td>1</td>\n",
       "      <td>9</td>\n",
       "      <td>25</td>\n",
       "      <td>NaN</td>\n",
       "    </tr>\n",
       "  </tbody>\n",
       "</table>\n",
       "</div>"
      ],
      "text/plain": [
       "                        planned_fractions  number_of_plans  number_of_doses  \\\n",
       "0                    [[Thxv+LN DBdx, 23]]                1                1   \n",
       "1                     [[G SKA-I M R, 25]]                1                1   \n",
       "2  [[G DBCG E L PY, 25], [G DBCG L B, 5]]                2                2   \n",
       "3                      [[MamBD50_25, 25]]                1                9   \n",
       "\n",
       "   main_fractions  Delivered Dose in Course  \n",
       "0              23                 50.019530  \n",
       "1              25                 49.999038  \n",
       "2              25                 60.008776  \n",
       "3              25                       NaN  "
      ]
     },
     "execution_count": 8,
     "metadata": {},
     "output_type": "execute_result"
    }
   ],
   "source": [
    "#Combine with RVS data if avilable\n",
    "df_rvs = pd.read_excel('D:/RVS_data.xls')\n",
    "df_merged = pd.merge(df, df_rvs[['patient_id','Delivered Dose in Course']], on ='patient_id', how ='left')\n",
    "df_merged[['planned_fractions','number_of_plans', 'number_of_doses', 'main_fractions','Delivered Dose in Course']]"
   ]
  },
  {
   "cell_type": "markdown",
   "metadata": {},
   "source": [
    "Patient 1 needs scaling (total course dose is 50 Gy but plan is only 23 fractions)\n",
    "\n",
    "Patient 2 is ok as it is\n",
    "\n",
    "Patient 3 needs to have two dose files summed as it has a have sequential boost\n",
    "\n",
    "patient 4 has no RVS data but we know from plan name that it is ok with 50Gy in 25 fractions - it has multiple dose filess (dose per beam) which are summed\n"
   ]
  },
  {
   "cell_type": "code",
   "execution_count": null,
   "metadata": {},
   "outputs": [],
   "source": [
    "# Create a new treatment collection in the databse to represent a research project\n",
    "import cordialrt.database.database as rtdb\n",
    "\n",
    "with rtdb.DatabaseCall() as db:\n",
    "    test_treatment_collection_id = db.create_treatment_collection('Example treatment collection')\n",
    "\n",
    "print(test_treatment_collection_id)"
   ]
  },
  {
   "cell_type": "code",
   "execution_count": null,
   "metadata": {},
   "outputs": [],
   "source": [
    "# Add a treatment to the treatment collection in the database. \n",
    "# DICOM files asscociated to the plan names, chosen will be associated with the treatment.\n",
    "\n",
    "all_errors = list()\n",
    "with rtdb.DatabaseCall() as db:\n",
    "    status, error_log = db.add_new_treatment_to_collection_from_plan_names(\n",
    "                        patient = df_merged.loc[0].patient_object,\n",
    "                        collection_id =  test_treatment_collection_id,\n",
    "                        plan_names = df_merged.loc[0].plan_names,\n",
    "                        treatment_place = 'Centre 1',\n",
    "                        main_reference_dose = df_merged.loc[0]['Delivered Dose in Course'].round(0).astype(int),\n",
    "                        boost_reference_dose = 0,\n",
    "                        main_dose_scale_factor = 25/df_merged.loc[0].main_fractions,\n",
    "                        boost_dose_scale_factor = 0,\n",
    "                        )\n",
    "    all_errors.append([row.patient_id, status, error_log])\n"
   ]
  },
  {
   "cell_type": "code",
   "execution_count": null,
   "metadata": {},
   "outputs": [],
   "source": [
    "# Add a treatment to the treatment collection in the database. \n",
    "# DICOM files asscociated to the plan names, chosen will be associated with the treatment.\n",
    "\n",
    "all_errors = list()\n",
    "with rtdb.DatabaseCall() as db:\n",
    "    status, error_log = db.add_new_treatment_to_collection_from_plan_names(\n",
    "                        patient = df_merged.loc[2].patient_object,\n",
    "                        collection_id =  test_treatment_collection_id,\n",
    "                        plan_names = df_merged.loc[2].plan_names,\n",
    "                        treatment_place = 'Centre 1',\n",
    "                        main_reference_dose = 50,\n",
    "                        boost_reference_dose = 10,\n",
    "                        main_dose_scale_factor = 1,\n",
    "                        boost_dose_scale_factor = 1,\n",
    "                        )\n",
    "    all_errors.append([row.patient_id, status, error_log])\n"
   ]
  },
  {
   "cell_type": "code",
   "execution_count": 9,
   "metadata": {},
   "outputs": [
    {
     "ename": "NameError",
     "evalue": "name 'test_treatment_collection_id' is not defined",
     "output_type": "error",
     "traceback": [
      "\u001b[1;31m---------------------------------------------------------------------------\u001b[0m",
      "\u001b[1;31mNameError\u001b[0m                                 Traceback (most recent call last)",
      "\u001b[1;32m<ipython-input-9-a30ff0a1b902>\u001b[0m in \u001b[0;36m<module>\u001b[1;34m\u001b[0m\n\u001b[0;32m      3\u001b[0m \u001b[1;32mimport\u001b[0m \u001b[0mcordialrt\u001b[0m\u001b[1;33m.\u001b[0m\u001b[0manalysis\u001b[0m\u001b[1;33m.\u001b[0m\u001b[0mtreatments_from_collection\u001b[0m\u001b[1;33m\u001b[0m\u001b[1;33m\u001b[0m\u001b[0m\n\u001b[0;32m      4\u001b[0m \u001b[1;33m\u001b[0m\u001b[0m\n\u001b[1;32m----> 5\u001b[1;33m \u001b[0mtreatments\u001b[0m \u001b[1;33m=\u001b[0m \u001b[0mcordialrt\u001b[0m\u001b[1;33m.\u001b[0m\u001b[0manalysis\u001b[0m\u001b[1;33m.\u001b[0m\u001b[0mtreatments_from_collection\u001b[0m\u001b[1;33m.\u001b[0m\u001b[0minit_treatments_from_collection\u001b[0m\u001b[1;33m(\u001b[0m\u001b[0mtreatment_collection_id\u001b[0m \u001b[1;33m=\u001b[0m \u001b[0mtest_treatment_collection_id\u001b[0m\u001b[1;33m)\u001b[0m\u001b[1;33m\u001b[0m\u001b[1;33m\u001b[0m\u001b[0m\n\u001b[0m",
      "\u001b[1;31mNameError\u001b[0m: name 'test_treatment_collection_id' is not defined"
     ]
    }
   ],
   "source": [
    "# Load treatments from a treatment collection by initiating the Treatment class\n",
    "\n",
    "import cordialrt.analysis.treatments_from_collection \n",
    "\n",
    "treatments = cordialrt.analysis.treatments_from_collection.init_treatments_from_collection(treatment_collection_id = test_treatment_collection_id)"
   ]
  },
  {
   "cell_type": "code",
   "execution_count": null,
   "metadata": {},
   "outputs": [],
   "source": [
    "# Extract information from the databse and the associated DICOM files, using the treatment class\n",
    "t = treatments[0]\n",
    "\n",
    "print('Patient id:', t.patient_id)\n",
    "print('Patient dicompyler DicomParser dose object:', t.get_dose()) # Note if multiple dosefiles are associated with the treatment, these are summed.\n",
    "print('Max dose in the dose grid:', t.get_max_dose())\n",
    "print('Treatment laterality:', t.get_latterality())\n",
    "print('Plan study date:', t.get_study_date())\n",
    "\n",
    "# Please see the definition of the Treatment class for more funtionality \n"
   ]
  },
  {
   "cell_type": "code",
   "execution_count": null,
   "metadata": {},
   "outputs": [],
   "source": [
    "# Use data extraction module\n",
    "\n",
    "import cordialrt.analysis.data_extraction as crtda\n",
    "\n",
    "datapoints_input = list()\n",
    "\n",
    "datapoints_input.append(crtda.DvhDataPoint('ctvn_imn', 'volume', 'abs'))\n",
    "datapoints_input.append(crtda.DvhDataPoint('ctvn_imn', 'mean', 'abs'))\n",
    "datapoints_input.append(crtda.DvhDataPoint('ctvn_imn', 'v90', 'rel'))\n",
    "\n",
    "datapoints_input.append(crtda.DvhDataPoint('heart', 'volume', 'abs'))\n",
    "datapoints_input.append(crtda.DvhDataPoint('heart', 'mean', 'abs'))\n",
    "\n",
    "\n",
    "for i,patient_id in enumerate(df.patient_id.unique()[0:3]):\n",
    "    datapoints_output = crtda.extract_data_from_patient(collection_id = 70, patient_id = patient_id, data_points= datapoints_input)\n",
    "\n",
    "    print(f'Patient {i}')\n",
    "    for data_point in datapoints_output:\n",
    "        print(data_point.roi_standard_name, data_point.name ,data_point.value )\n",
    "    print('')                                           \n"
   ]
  },
  {
   "cell_type": "code",
   "execution_count": null,
   "metadata": {},
   "outputs": [],
   "source": [
    "# Extract non-dvh data and make a dataframe\n",
    "\n",
    "data_frame_rows = list()\n",
    "\n",
    "datapoints_input.append(crtda.GenericDataPoint('main_reference_dose'))\n",
    "datapoints_input.append(crtda.GenericDataPoint('ct_manufacturer'))\n",
    "datapoints_input.append(crtda.GenericDataPoint('laterality'))\n",
    "\n",
    "\n",
    "for i,patient_id in enumerate(df.patient_id.unique()[0:3]):\n",
    "    datapoints_output = crtda.extract_data_from_patient(collection_id = 70, patient_id = patient_id, data_points= datapoints_input)\n",
    "    data_frame_row = {'patient_id' : f'patient_{i}'}\n",
    "\n",
    "    for data_point in datapoints_output:\n",
    "        try:\n",
    "            name = f'{data_point.roi_standard_name}_{data_point.name}' #If datapoint is a DvhDataPoint\n",
    "        except AttributeError: \n",
    "            name = data_point.name # If datapoint is a GenericDataPoint\n",
    "            \n",
    "        data_frame_row[f'{name}'] = data_point.value\n",
    "    \n",
    "    data_frame_rows.append(data_frame_row)\n",
    "\n",
    "df_dvh = pd.DataFrame(data_frame_rows)\n",
    "display(df_dvh)\n",
    "\n",
    "df_dvh.to_csv('dvh.csv')\n",
    "df_dvh.to_excel('dvh.xlsx')\n",
    "df_dvh.to_stata('dvh.tba')"
   ]
  },
  {
   "cell_type": "code",
   "execution_count": null,
   "metadata": {},
   "outputs": [],
   "source": [
    "# Get a list of implemented non-ROI data extraction methods\n",
    "crtda.NON_ROI_DATAPOINTS"
   ]
  },
  {
   "cell_type": "code",
   "execution_count": null,
   "metadata": {},
   "outputs": [],
   "source": [
    "# Use augmented structure set instead of the original\n",
    "\n",
    "import cordialrt.database.database as crtdb\n",
    "\n",
    "with crtdb.DatabaseCall() as db:\n",
    "    structure_collection_id = db.new_structure_collection_from_folder(collection_name= 'example_dl',\n",
    "                                                                      folder_path = 'D:/Anon_dicom_files/Augmented_structures/Examples/')\n"
   ]
  },
  {
   "cell_type": "code",
   "execution_count": null,
   "metadata": {},
   "outputs": [],
   "source": [
    "data_frame_rows = list()\n",
    "dapoints_input2 = list()\n",
    "\n",
    "datapoints_input2.append(crtda.DvhDataPoint('heart', 'volume', 'abs'))\n",
    "datapoints_input2.append(crtda.DvhDataPoint('heart', 'mean', 'abs'))\n",
    "\n",
    "# Add the datapoints for the new structures in the augmented structure set\n",
    "datapoints_input2.append(crtda.DvhDataPoint('dl_heart', 'volume', 'abs'))\n",
    "datapoints_input2.append(crtda.DvhDataPoint('dl_heart', 'mean', 'abs'))\n",
    "datapoints_input2.append(crtda.DvhDataPoint('dl_LAD', 'volume', 'abs'))\n",
    "datapoints_input2.append(crtda.DvhDataPoint('dl_LAD', 'mean', 'abs'))\n",
    "\n",
    "for i,patient_id in enumerate(df.patient_id.unique()[0:3]):\n",
    "    datapoints_output = crtda.extract_data_from_patient(collection_id = 70, patient_id = patient_id, data_points= datapoints_input2,\n",
    "                                                        structure_collection_id = 7)\n",
    "    data_frame_row = {'patient_id' : f'patient_{i}'}\n",
    "\n",
    "    for data_point in datapoints_output:\n",
    "        try:\n",
    "            name = f'{data_point.roi_standard_name}_{data_point.name}' #If datapoint is a DvhDataPoint\n",
    "        except AttributeError: \n",
    "            name = data_point.name # If datapoint is a GenericDataPoint\n",
    "            \n",
    "        data_frame_row[f'{name}'] = data_point.value\n",
    "    \n",
    "    data_frame_rows.append(data_frame_row)\n",
    "\n",
    "df_dvh = pd.DataFrame(data_frame_rows)\n",
    "display(df_dvh)"
   ]
  },
  {
   "cell_type": "code",
   "execution_count": null,
   "metadata": {},
   "outputs": [],
   "source": [
    "# Add a Region Of Interest to the treatment class\n",
    "\n",
    "t.add_new_roi('Breast')\n",
    "\n",
    "# This will initiate a ROI class object\n",
    "breast = t.roi_by_name('Breast')\n",
    "\n",
    "# If the ROI class object has the same name as a roi in the structure file, the dvh can be calcalted using dicompyler\n",
    "breast_dvh = breast.calculate_dvh_for_roi_name()\n",
    "\n",
    "print('Breast volume', breast_dvh.volume)\n",
    "print('Breast mean dose', breast_dvh.mean)\n"
   ]
  },
  {
   "cell_type": "code",
   "execution_count": null,
   "metadata": {},
   "outputs": [],
   "source": [
    "test_treatment_collection_id = 70"
   ]
  },
  {
   "cell_type": "code",
   "execution_count": null,
   "metadata": {},
   "outputs": [],
   "source": [
    "# Count structure names in list of treatmetments\n",
    "\n",
    "import cordialrt.analysis.utils as crtut\n",
    "\n",
    "structure_names = list()\n",
    "for t in treatments:\n",
    "    structure_names.append(t.extract_roi_names_from_new_data())\n",
    "\n",
    "crtut.structure_count(structure_names)\n"
   ]
  },
  {
   "cell_type": "code",
   "execution_count": null,
   "metadata": {},
   "outputs": [],
   "source": [
    "# If we want to analyse multiple treatments at once, they may have different names for the same organ. \n",
    "# We can create a synonym collection and associate that with our treatment collection.\n",
    "\n",
    "import cordialrt.database.database as rtdb\n",
    "\n",
    "with rtdb.DatabaseCall() as db:\n",
    "    test_synonym_collection_id = db.create_synonym_collection('Test synonym collection')\n",
    "    db.associate_synonym_collection_with_treatment_colection(treatment_collection_id = test_treatment_collection_id, \n",
    "                                                            synonym_collection_id = test_synonym_collection_id)\n",
    "\n",
    "# We can then add synonyms to the collection\n",
    "with rtdb.DatabaseCall() as db: \n",
    "    db.add_synoym_to_synonym_colection(test_synonym_collection_id, 'or; cor', 'heart')\n",
    "    db.add_synoym_to_synonym_colection(test_synonym_collection_id, 'cor', 'heart')\n",
    "    db.add_synoym_to_synonym_colection(test_synonym_collection_id, 'parasternale lk', 'ctvn_imn')\n",
    "    db.add_synoym_to_synonym_colection(test_synonym_collection_id, 'parasternal ln', 'ctvn_imn')\n"
   ]
  },
  {
   "cell_type": "code",
   "execution_count": null,
   "metadata": {},
   "outputs": [],
   "source": []
  },
  {
   "cell_type": "code",
   "execution_count": null,
   "metadata": {},
   "outputs": [],
   "source": [
    "# We can now just use the standard name.\n",
    "\n",
    "t.add_new_roi('ctvp_breast')\n",
    "\n",
    "breast = t.roi_by_name('ctvp_breast')\n",
    "\n",
    "# This function will look for all synonyms associated with the ROI name (for this particular treatment collection)\n",
    "breast_dvh = breast.calculate_dvh_for_priority_synonym()\n",
    "\n",
    "print('Breast volume', breast_dvh.volume)\n",
    "print('Breast mean dose', breast_dvh.mean)\n",
    "\n"
   ]
  },
  {
   "cell_type": "code",
   "execution_count": null,
   "metadata": {},
   "outputs": [],
   "source": []
  }
 ],
 "metadata": {
  "kernelspec": {
   "display_name": "rtnation",
   "language": "python",
   "name": "python3"
  },
  "language_info": {
   "codemirror_mode": {
    "name": "ipython",
    "version": 3
   },
   "file_extension": ".py",
   "mimetype": "text/x-python",
   "name": "python",
   "nbconvert_exporter": "python",
   "pygments_lexer": "ipython3",
   "version": "3.9.6"
  },
  "orig_nbformat": 4,
  "vscode": {
   "interpreter": {
    "hash": "4717b7e6fc6cbe56bf53c562181311cb6c4da10b8c2592b1f7562a867296e145"
   }
  }
 },
 "nbformat": 4,
 "nbformat_minor": 2
}
